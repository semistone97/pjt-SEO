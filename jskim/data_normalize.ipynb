{
 "cells": [
  {
   "cell_type": "code",
   "execution_count": 14,
   "id": "734e21d9",
   "metadata": {},
   "outputs": [
    {
     "data": {
      "text/plain": [
       "True"
      ]
     },
     "execution_count": 14,
     "metadata": {},
     "output_type": "execute_result"
    }
   ],
   "source": [
    "from dotenv import load_dotenv\n",
    "\n",
    "load_dotenv()"
   ]
  },
  {
   "cell_type": "code",
   "execution_count": 15,
   "id": "f9b300eb",
   "metadata": {},
   "outputs": [
    {
     "data": {
      "application/vnd.microsoft.datawrangler.viewer.v0+json": {
       "columns": [
        {
         "name": "index",
         "rawType": "int64",
         "type": "integer"
        },
        {
         "name": "Keywords",
         "rawType": "object",
         "type": "string"
        },
        {
         "name": "Search Volume",
         "rawType": "float64",
         "type": "float"
        },
        {
         "name": "Competing Products",
         "rawType": "Int64",
         "type": "integer"
        }
       ],
       "ref": "a2c8bb27-b8bd-4725-b076-8248561add54",
       "rows": [
        [
         "0",
         "zaanzeer chicken shredder tool",
         "23.0",
         "231"
        ],
        [
         "1",
         "amazon chicken shredder",
         "432.0",
         "315"
        ],
        [
         "2",
         "aparato para desmenuzar el pollo",
         "90.0",
         "167"
        ],
        [
         "3",
         "avefare chicken shredder tool twist",
         "37.0",
         "214"
        ],
        [
         "4",
         "baked chicken shredder",
         "122.0",
         "250"
        ],
        [
         "5",
         "best chicken shredder tool",
         "48.0",
         "503"
        ],
        [
         "6",
         "bomeon chicken shredder",
         "70.0",
         "235"
        ],
        [
         "7",
         "chciken shredder",
         "154.0",
         "499"
        ],
        [
         "8",
         "chicken ahredder",
         "371.0",
         "515"
        ],
        [
         "9",
         "chicken breast shredder",
         "1300.0",
         "343"
        ],
        [
         "10",
         "chicken breast shredders",
         "13.0",
         "316"
        ],
        [
         "11",
         "chicken breast shredder tool",
         "0.0",
         "645"
        ],
        [
         "12",
         "chicken destroyer shredder",
         "53.0",
         "233"
        ],
        [
         "13",
         "chicken dhredder",
         "36.0",
         "523"
        ],
        [
         "14",
         "chicken grinder",
         "678.0",
         "1000"
        ],
        [
         "15",
         "chicken grinder shredder",
         "324.0",
         "506"
        ],
        [
         "16",
         "chicken meat shredder twist",
         "72.0",
         "386"
        ],
        [
         "17",
         "chicken mincer shredder",
         "400.0",
         "0"
        ],
        [
         "18",
         "chicken schredder",
         "231.0",
         "497"
        ],
        [
         "19",
         "chicken shedder",
         "331.0",
         "522"
        ],
        [
         "20",
         "chicken sheedder",
         "371.0",
         "532"
        ],
        [
         "21",
         "chicken shreader",
         "447.0",
         "527"
        ],
        [
         "22",
         "chicken shreddar",
         "314.0",
         "535"
        ],
        [
         "23",
         "chicken shredde",
         "67.0",
         "509"
        ],
        [
         "24",
         "chicken shredded tool",
         "56.0",
         "419"
        ],
        [
         "25",
         "chicken shredded twist",
         "0.0",
         "189"
        ],
        [
         "26",
         "chicken shreddee",
         "244.0",
         "521"
        ],
        [
         "27",
         "chicken shredder",
         "182398.0",
         "523"
        ],
        [
         "28",
         "chicken shredder ￼",
         "55.0",
         "602"
        ],
        [
         "29",
         "chicken shredder￼",
         "864.0",
         "530"
        ],
        [
         "30",
         "chicken. shredder",
         "275.0",
         "516"
        ],
        [
         "31",
         "chicken shredder 2 pack",
         "62.0",
         "346"
        ],
        [
         "32",
         "chicken shredder amazon",
         "865.0",
         "302"
        ],
        [
         "33",
         "chicken shredder amaztify",
         "134.0",
         "248"
        ],
        [
         "34",
         "chicken shredder container",
         "0.0",
         "224"
        ],
        [
         "35",
         "chicken shredder device",
         "101.0",
         "254"
        ],
        [
         "36",
         "chicken shredder gadget",
         "13.0",
         "411"
        ],
        [
         "37",
         "chicken shredder large chicken breast shredder tool",
         "449.0",
         "0"
        ],
        [
         "38",
         "chicken shredders",
         "392.0",
         "437"
        ],
        [
         "39",
         "chicken shredder to",
         "142.0",
         "565"
        ],
        [
         "40",
         "chicken shredder tool",
         "3139.0",
         "453"
        ],
        [
         "41",
         "chicken shredder tools",
         "183.0",
         "491"
        ],
        [
         "42",
         "chicken shredder tool twist",
         "22604.0",
         "354"
        ],
        [
         "43",
         "chicken shredder tool twist best seller",
         "34.0",
         "264"
        ],
        [
         "44",
         "chicken shredder twist",
         "43.0",
         "352"
        ],
        [
         "45",
         "chicken shreder",
         "403.0",
         "522"
        ],
        [
         "46",
         "chicken shreeder",
         "314.0",
         "504"
        ],
        [
         "47",
         "chicken sreader",
         "44.0",
         "518"
        ],
        [
         "48",
         "chocken shredder",
         "20.0",
         "484"
        ],
        [
         "49",
         "circle chicken shredder",
         "185.0",
         "254"
        ]
       ],
       "shape": {
        "columns": 3,
        "rows": 200
       }
      },
      "text/html": [
       "<div>\n",
       "<style scoped>\n",
       "    .dataframe tbody tr th:only-of-type {\n",
       "        vertical-align: middle;\n",
       "    }\n",
       "\n",
       "    .dataframe tbody tr th {\n",
       "        vertical-align: top;\n",
       "    }\n",
       "\n",
       "    .dataframe thead th {\n",
       "        text-align: right;\n",
       "    }\n",
       "</style>\n",
       "<table border=\"1\" class=\"dataframe\">\n",
       "  <thead>\n",
       "    <tr style=\"text-align: right;\">\n",
       "      <th></th>\n",
       "      <th>Keywords</th>\n",
       "      <th>Search Volume</th>\n",
       "      <th>Competing Products</th>\n",
       "    </tr>\n",
       "  </thead>\n",
       "  <tbody>\n",
       "    <tr>\n",
       "      <th>0</th>\n",
       "      <td>zaanzeer chicken shredder tool</td>\n",
       "      <td>23.0</td>\n",
       "      <td>231</td>\n",
       "    </tr>\n",
       "    <tr>\n",
       "      <th>1</th>\n",
       "      <td>amazon chicken shredder</td>\n",
       "      <td>432.0</td>\n",
       "      <td>315</td>\n",
       "    </tr>\n",
       "    <tr>\n",
       "      <th>2</th>\n",
       "      <td>aparato para desmenuzar el pollo</td>\n",
       "      <td>90.0</td>\n",
       "      <td>167</td>\n",
       "    </tr>\n",
       "    <tr>\n",
       "      <th>3</th>\n",
       "      <td>avefare chicken shredder tool twist</td>\n",
       "      <td>37.0</td>\n",
       "      <td>214</td>\n",
       "    </tr>\n",
       "    <tr>\n",
       "      <th>4</th>\n",
       "      <td>baked chicken shredder</td>\n",
       "      <td>122.0</td>\n",
       "      <td>250</td>\n",
       "    </tr>\n",
       "    <tr>\n",
       "      <th>...</th>\n",
       "      <td>...</td>\n",
       "      <td>...</td>\n",
       "      <td>...</td>\n",
       "    </tr>\n",
       "    <tr>\n",
       "      <th>195</th>\n",
       "      <td>top selling items on amazon</td>\n",
       "      <td>439.0</td>\n",
       "      <td>30000</td>\n",
       "    </tr>\n",
       "    <tr>\n",
       "      <th>196</th>\n",
       "      <td>under $100</td>\n",
       "      <td>92.0</td>\n",
       "      <td>727</td>\n",
       "    </tr>\n",
       "    <tr>\n",
       "      <th>197</th>\n",
       "      <td>vegetable chopper small</td>\n",
       "      <td>290.0</td>\n",
       "      <td>5000</td>\n",
       "    </tr>\n",
       "    <tr>\n",
       "      <th>198</th>\n",
       "      <td>wedding registry gifts for men</td>\n",
       "      <td>119.0</td>\n",
       "      <td>353</td>\n",
       "    </tr>\n",
       "    <tr>\n",
       "      <th>199</th>\n",
       "      <td>wedding registry items</td>\n",
       "      <td>6973.0</td>\n",
       "      <td>736</td>\n",
       "    </tr>\n",
       "  </tbody>\n",
       "</table>\n",
       "<p>200 rows × 3 columns</p>\n",
       "</div>"
      ],
      "text/plain": [
       "                                Keywords  Search Volume  Competing Products\n",
       "0         zaanzeer chicken shredder tool           23.0                 231\n",
       "1                amazon chicken shredder          432.0                 315\n",
       "2       aparato para desmenuzar el pollo           90.0                 167\n",
       "3    avefare chicken shredder tool twist           37.0                 214\n",
       "4                 baked chicken shredder          122.0                 250\n",
       "..                                   ...            ...                 ...\n",
       "195          top selling items on amazon          439.0               30000\n",
       "196                           under $100           92.0                 727\n",
       "197              vegetable chopper small          290.0                5000\n",
       "198       wedding registry gifts for men          119.0                 353\n",
       "199               wedding registry items         6973.0                 736\n",
       "\n",
       "[200 rows x 3 columns]"
      ]
     },
     "execution_count": 15,
     "metadata": {},
     "output_type": "execute_result"
    }
   ],
   "source": [
    "import pandas as pd\n",
    "\n",
    "raw_df = pd.read_csv('./raw_keywords.csv')[['Keywords', 'Search Volume', 'Competing Products']]\n",
    "\n",
    "raw_df['Competing Products'] = raw_df['Competing Products'].fillna(0)\n",
    "raw_df['Competing Products'] = raw_df['Competing Products'].str.replace('>', '').astype('Int64')\n",
    "raw_df"
   ]
  },
  {
   "cell_type": "code",
   "execution_count": null,
   "id": "4d04a0ef",
   "metadata": {},
   "outputs": [],
   "source": [
    "import pandas as pd\n",
    "import re\n",
    "from langchain_openai import ChatOpenAI\n",
    "from langgraph.graph import MessagesState, START, StateGraph\n",
    "from langchain_core.prompts import PromptTemplate\n",
    "from langchain.output_parsers import StructuredOutputParser, ResponseSchema\n",
    "\n",
    "# 상태 정의\n",
    "class State(MessagesState):\n",
    "    data: pd.DataFrame\n",
    "\n",
    "llm = ChatOpenAI(model=\"gpt-5-mini\")  \n",
    "\n",
    "# ResponseSchema 정의\n",
    "response_schemas = [\n",
    "    ResponseSchema(\n",
    "        name=\"keywords\",\n",
    "        description=\"조건을 적용한 키워드 리스트, 각 키워드는 dict 형태로 유지\"\n",
    "    )\n",
    "]\n",
    "parser = StructuredOutputParser.from_response_schemas(response_schemas)\n",
    "\n",
    "# 프롬프트\n",
    "template = \"\"\"\n",
    "다음 키워드 리스트에 대해 조건을 적용하되, 삭제는 가능한 한 신중히 수행한다:\n",
    "\n",
    "[조건]\n",
    "1. 영어 이외의 외국어 키워드 삭제 권장. \n",
    "2. 같은 키워드의 단수형과 복수형 단어가 동시에 존재할 경우에만, 복수형 키워드를 제거함 \n",
    "3. 오타로 판단되는 키워드의 경우, 원본 키워드가 존재할 경우 오타 키워드를 제거함\n",
    "\n",
    "\n",
    "[데이터]\n",
    "{data}\n",
    "\n",
    "[출력]\n",
    "{format_instructions}\n",
    "\"\"\"\n",
    "\n",
    "def preprocess_keywords(df: pd.DataFrame) -> pd.DataFrame:\n",
    "    \"\"\"Python에서 사전 필터링: 영어, 알파벳/숫자만\"\"\"\n",
    "    \n",
    "    df = df[df['Keywords'].apply(lambda x: bool(re.fullmatch(r\"[A-Za-z0-9 &'().-]+\", str(x))))]    \n",
    "    df = df.sort_values('Search Volume', ascending=False).drop_duplicates(subset=['Keywords'])\n",
    "    \n",
    "    return df.reset_index(drop=True)\n",
    "\n",
    "def keyword_process(state: State):\n",
    "    df = state[\"data\"]\n",
    "    \n",
    "    # 1. 사전 필터링\n",
    "    df = preprocess_keywords(df)\n",
    "    \n",
    "    # 2. LLM 호출\n",
    "    prompt = PromptTemplate.from_template(template)\n",
    "    keyword_prompt = prompt.format(\n",
    "        data=df.to_dict(orient=\"records\"),\n",
    "        format_instructions=parser.get_format_instructions()\n",
    "    )\n",
    "    \n",
    "    res = llm.invoke([{\"role\": \"user\", \"content\": keyword_prompt}])\n",
    "    structured = parser.parse(res.content)\n",
    "    \n",
    "    cleaned_data = pd.DataFrame(structured[\"keywords\"])\n",
    "    \n",
    "    return {\"data\": cleaned_data}\n",
    "\n",
    "# 그래프 정의\n",
    "builder = StateGraph(State).add_node(\"keyword_process\", keyword_process)\n",
    "builder.add_edge(START, \"keyword_process\")\n",
    "\n",
    "graph = builder.compile()\n",
    "\n",
    "# 실행 예시\n",
    "final_state = graph.invoke({\n",
    "    \"data\": raw_df,\n",
    "})\n",
    "\n",
    "df = final_state[\"data\"]\n",
    " "
   ]
  },
  {
   "cell_type": "code",
   "execution_count": 22,
   "id": "3995abf3",
   "metadata": {},
   "outputs": [],
   "source": [
    "from sklearn.preprocessing import StandardScaler\n",
    "\n",
    "scale_cols = ['Search Volume', 'Competing Products']\n",
    "\n",
    "ss = StandardScaler()\n",
    "scaled_array = ss.fit_transform(df[scale_cols])\n",
    "scaled_df = pd.DataFrame(scaled_array, columns=scale_cols)\n",
    "cleaned_df = pd.concat([df['Keywords'], scaled_df], axis=1)\n",
    "cleaned_df['value_score'] = ((cleaned_df['Search Volume'] + 1) / (cleaned_df['Competing Products'] + 1))\n",
    "\n",
    "cleaned_df.to_csv('./processed_keywords.csv')"
   ]
  },
  {
   "cell_type": "code",
   "execution_count": null,
   "id": "35eff83f",
   "metadata": {},
   "outputs": [],
   "source": [
    "import pandas as pd\n",
    "import re\n",
    "from langchain_openai import ChatOpenAI\n",
    "from langgraph.graph import MessagesState, START, StateGraph\n",
    "from langchain_core.prompts import PromptTemplate\n",
    "from langchain.output_parsers import StructuredOutputParser, ResponseSchema\n",
    "\n",
    "# 상태 정의\n",
    "class State(MessagesState):\n",
    "    data: pd.DataFrame\n",
    "    deleted_keywords: list = []  # 삭제된 키워드 저장\n",
    "\n",
    "llm = ChatOpenAI(model=\"gpt-5-mini\")  \n",
    "\n",
    "# ResponseSchema 정의\n",
    "response_schemas = [\n",
    "    ResponseSchema(\n",
    "        name=\"keywords\",\n",
    "        description=\"조건을 적용한 키워드 리스트, 각 키워드는 dict 형태로 유지\"\n",
    "    )\n",
    "]\n",
    "parser = StructuredOutputParser.from_response_schemas(response_schemas)\n",
    "\n",
    "# 프롬프트\n",
    "template = \"\"\"\n",
    "다음 키워드 리스트에 대해 조건을 적용하되, 삭제는 가능한 한 신중히 수행한다:\n",
    "\n",
    "[조건]\n",
    "1. 영어 이외의 외국어 키워드 삭제 권장. \n",
    "2. 같은 키워드의 단수형과 복수형 단어가 동시에 존재할 경우에만, 복수형 키워드를 제거함 \n",
    "3. 오타로 판단되는 키워드의 경우, 원본 키워드가 존재할 경우 오타 키워드를 제거함\n",
    "\n",
    "[데이터]\n",
    "{data}\n",
    "\n",
    "[출력]\n",
    "{format_instructions}\n",
    "\"\"\"\n",
    "\n",
    "def preprocess_keywords(df: pd.DataFrame) -> pd.DataFrame:\n",
    "    \"\"\"Python에서 사전 필터링: 영어, 알파벳/숫자만\"\"\"\n",
    "    df = df[df['Keywords'].apply(lambda x: bool(re.fullmatch(r\"[A-Za-z0-9 &'().-]+\", str(x))))]    \n",
    "    df = df.sort_values('Search Volume', ascending=False).drop_duplicates(subset=['Keywords'])\n",
    "    return df.reset_index(drop=True)\n",
    "\n",
    "def keyword_process(state: State):\n",
    "    df = state[\"data\"]\n",
    "    \n",
    "    # 1. 사전 필터링\n",
    "    filtered_df = preprocess_keywords(df[['Keywords', 'Search Volume']])\n",
    "    \n",
    "    # 2. LLM 호출\n",
    "    prompt = PromptTemplate.from_template(template)\n",
    "    keyword_prompt = prompt.format(\n",
    "        data=filtered_df.to_dict(orient=\"records\"),\n",
    "        format_instructions=parser.get_format_instructions()\n",
    "    )\n",
    "    \n",
    "    res = llm.invoke([{\"role\": \"user\", \"content\": keyword_prompt}])\n",
    "    structured = parser.parse(res.content)\n",
    "    \n",
    "    # 3. LLM 결과 키워드 추출\n",
    "    cleaned_keywords = [k['Keywords'] for k in structured[\"keywords\"]]\n",
    "    \n",
    "    # 4. 삭제된 키워드 추출\n",
    "    deleted_keywords = df[~df['Keywords'].isin(cleaned_keywords)]['Keywords'].tolist()\n",
    "    \n",
    "    # 5. 원본 df에서 LLM 통과한 키워드만 필터\n",
    "    cleaned_data = df[df['Keywords'].isin(cleaned_keywords)].reset_index(drop=True)\n",
    "    \n",
    "    return {\n",
    "        \"data\": cleaned_data,\n",
    "        \"deleted_keywords\": deleted_keywords\n",
    "    }\n",
    "\n",
    "# 그래프 정의\n",
    "builder = StateGraph(State).add_node(\"keyword_process\", keyword_process)\n",
    "builder.add_edge(START, \"keyword_process\")\n",
    "\n",
    "graph = builder.compile()\n",
    "\n",
    "# 실행 예시\n",
    "# raw_df 는 원본 데이터프레임\n",
    "final_state = graph.invoke({\n",
    "    \"data\": raw_df,\n",
    "})\n",
    "\n",
    "df_cleaned = final_state[\"data\"]\n",
    "deleted_list = final_state[\"deleted_keywords\"]\n",
    "\n",
    "print(\"필터링 후 데이터프레임:\")\n",
    "print(df_cleaned)\n",
    "print(\"\\n삭제된 키워드 리스트:\")\n",
    "print(deleted_list)"
   ]
  }
 ],
 "metadata": {
  "kernelspec": {
   "display_name": "venv",
   "language": "python",
   "name": "python3"
  },
  "language_info": {
   "codemirror_mode": {
    "name": "ipython",
    "version": 3
   },
   "file_extension": ".py",
   "mimetype": "text/x-python",
   "name": "python",
   "nbconvert_exporter": "python",
   "pygments_lexer": "ipython3",
   "version": "3.13.2"
  }
 },
 "nbformat": 4,
 "nbformat_minor": 5
}
