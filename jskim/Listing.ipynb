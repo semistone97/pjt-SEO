{
 "cells": [
  {
   "cell_type": "code",
   "execution_count": null,
   "id": "f6dfc162",
   "metadata": {},
   "outputs": [],
   "source": [
    "from dotenv import load_dotenv\n",
    "\n",
    "load_dotenv()"
   ]
  },
  {
   "cell_type": "code",
   "execution_count": null,
   "id": "3d8f7c0d",
   "metadata": {},
   "outputs": [],
   "source": [
    "from typing_extensions import List, Dict, TypedDict, Annotated\n",
    "from langgraph.graph import MessagesState\n",
    "\n",
    "class State(MessagesState):\n",
    "    product_name: str\n",
    "    product_description: str\n",
    "    category: str\n",
    "    data: List[Dict]\n",
    "    title: str\n",
    "    bp: List[str]\n",
    "    description: str\n",
    "\n",
    "class TitleOutput(TypedDict):\n",
    "    title: Annotated[str, ..., '규칙에 맞는 제목, 200자를 넘어가면 안됨']\n",
    "\n",
    "class BPOutput(TypedDict):\n",
    "    bp: Annotated[List[str], ..., '규칙에 맞는 BP, 각각 50자를 넘어가면 안됨']\n",
    "    \n",
    "class StateDescription(TypedDict):    \n",
    "    description: Annotated[str, ..., '규칙에 맞는 설명, 2000자를 넘어가면 안됨']"
   ]
  },
  {
   "cell_type": "code",
   "execution_count": null,
   "id": "1f92cd6c",
   "metadata": {},
   "outputs": [],
   "source": [
    "from langchain_openai import ChatOpenAI\n",
    "\n",
    "llm = ChatOpenAI(model='gpt-4o', temperature=0)"
   ]
  },
  {
   "cell_type": "code",
   "execution_count": null,
   "id": "045467b8",
   "metadata": {},
   "outputs": [],
   "source": [
    "from langchain_core.prompts import PromptTemplate\n",
    "\n",
    "title_template = \"\"\"\n",
    "다음 정보를 확인해서 아마존 상품의 타이틀을 작성해 주세요.\n",
    "목표는 검색 노출을 극대화 하는 것으로, 반드시 아래 규칙을 지켜주세요\n",
    "\n",
    "[규칙]\n",
    "1. Title의 길이는 200자를 넘어가면 안됩니다\n",
    "2. 첫 80자에는 핵심 내용(브랜드명, 제품명, Key attribute 등)이 들어가야 합니다\n",
    "3. 후반부에는 제품과 관련된 중요한 키워드를 제시해야 합니다.\n",
    "\n",
    "---\n",
    "[데이터]\n",
    "상품명: {product_name}\n",
    "카테고리: {category}\n",
    "상품 설명: {product_description}\n",
    "---\n",
    "[키워드]\n",
    "{keyword}\n",
    "---\n",
    "[출력]\n",
    "최종 타이틀:  \n",
    "\"\"\"\n",
    "\n",
    "title_prompt = PromptTemplate.from_template(title_template)\n"
   ]
  },
  {
   "cell_type": "code",
   "execution_count": null,
   "id": "85b63078",
   "metadata": {},
   "outputs": [],
   "source": [
    "def generate_title(state: State):\n",
    "    prompt = title_prompt.invoke(\n",
    "        {\n",
    "            'product_name': state['product_name'], \n",
    "            'category': state['category'],\n",
    "            'product_description': state['product_description'], \n",
    "            'keyword': state['data'],\n",
    "        }\n",
    "    )\n",
    "    structured_llm = llm.with_structured_output(TitleOutput)\n",
    "    res = structured_llm.invoke(prompt)\n",
    "    return {'title': res['title']}"
   ]
  },
  {
   "cell_type": "code",
   "execution_count": null,
   "id": "90586f14",
   "metadata": {},
   "outputs": [],
   "source": [
    "from langgraph.graph import START, StateGraph\n",
    "\n",
    "# 단순히 1열로 노드들이 진행되는 경우 만드는게 매우 간단함\n",
    "builder = StateGraph(State).add_sequence(\n",
    "    [generate_title]\n",
    ")\n",
    "\n",
    "builder.add_edge(START, 'generate_title')\n",
    "\n",
    "graph = builder.compile()\n",
    "\n",
    "from IPython.display import Image, display\n",
    "\n",
    "display(Image(graph.get_graph().draw_mermaid_png()))"
   ]
  },
  {
   "cell_type": "code",
   "execution_count": null,
   "id": "44150403",
   "metadata": {},
   "outputs": [],
   "source": [
    "keywords = [\n",
    "    {\n",
    "        'keyword': 'chicken shredder',\n",
    "        'rel_ct': '직접연관키워드',\n",
    "        'qual_ct': '좋음'        \n",
    "    },\n",
    "    {\n",
    "        'keyword': 'meat shredder claws',\n",
    "        'rel_ct': '직접연관키워드',\n",
    "        'qual_ct': '중간'        \n",
    "    },\n",
    "    {\n",
    "        'keyword': 'meat grinder',\n",
    "        'rel_ct': '중간연관키워드',\n",
    "        'qual_ct': '중간'        \n",
    "    },\n",
    "    {\n",
    "        'keyword': 'christmas gift kitchen',\n",
    "        'rel_ct': '간접연관키워드',\n",
    "        'qual_ct': '좋음'        \n",
    "    },\n",
    "    {\n",
    "        'keyword': 'BBQ accessories',\n",
    "        'rel_ct': '',\n",
    "        'qual_ct': '낮음'        \n",
    "    },\n",
    "]"
   ]
  },
  {
   "cell_type": "code",
   "execution_count": null,
   "id": "c1781c69",
   "metadata": {},
   "outputs": [],
   "source": [
    "final_state = graph.invoke({\n",
    "    'product_name': 'Chicken Shredder',\n",
    "    'category': 'Kitchen Gadgets',\n",
    "    'product_description': '닭고기를 손쉽게 찢을 수 있는 도구입니다',\n",
    "    'data': keywords,\n",
    "})\n",
    "\n",
    "final_state['title']"
   ]
  }
 ],
 "metadata": {
  "language_info": {
   "name": "python"
  }
 },
 "nbformat": 4,
 "nbformat_minor": 5
}
